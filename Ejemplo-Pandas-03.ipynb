{
 "cells": [
  {
   "cell_type": "markdown",
   "metadata": {},
   "source": [
    "# Uso de Dataframe en Pandas\n",
    "##### https://pandas.pydata.org/pandas-docs/stable/generated/pandas.DataFrame.html"
   ]
  },
  {
   "cell_type": "code",
   "metadata": {
    "ExecuteTime": {
     "end_time": "2025-04-12T01:32:23.586341Z",
     "start_time": "2025-04-12T01:32:22.972389Z"
    }
   },
   "source": [
    "import pandas as pd\n",
    "import sys\n",
    "import datetime as dt\n",
    "import numpy as np\n",
    "import matplotlib.pyplot as plt\n",
    "import matplotlib\n",
    "\n",
    "%matplotlib inline\n",
    "\n"
   ],
   "outputs": [],
   "execution_count": 1
  },
  {
   "cell_type": "code",
   "metadata": {
    "ExecuteTime": {
     "end_time": "2025-04-12T01:32:23.598362Z",
     "start_time": "2025-04-12T01:32:23.590761Z"
    }
   },
   "source": [
    "mi_df = pd.read_json('data/data-demo-2.json')\n"
   ],
   "outputs": [],
   "execution_count": 2
  },
  {
   "cell_type": "code",
   "metadata": {
    "ExecuteTime": {
     "end_time": "2025-04-12T01:32:25.551546Z",
     "start_time": "2025-04-12T01:32:25.541035Z"
    }
   },
   "source": [
    "mi_df"
   ],
   "outputs": [
    {
     "data": {
      "text/plain": [
       "    nombres apellidos\n",
       "0      rené  elizalde\n",
       "1   enrique     cueva\n",
       "2    carlos  castillo\n",
       "3     pedro   salinas\n",
       "4  cristian   andrade"
      ],
      "text/html": [
       "<div>\n",
       "<style scoped>\n",
       "    .dataframe tbody tr th:only-of-type {\n",
       "        vertical-align: middle;\n",
       "    }\n",
       "\n",
       "    .dataframe tbody tr th {\n",
       "        vertical-align: top;\n",
       "    }\n",
       "\n",
       "    .dataframe thead th {\n",
       "        text-align: right;\n",
       "    }\n",
       "</style>\n",
       "<table border=\"1\" class=\"dataframe\">\n",
       "  <thead>\n",
       "    <tr style=\"text-align: right;\">\n",
       "      <th></th>\n",
       "      <th>nombres</th>\n",
       "      <th>apellidos</th>\n",
       "    </tr>\n",
       "  </thead>\n",
       "  <tbody>\n",
       "    <tr>\n",
       "      <th>0</th>\n",
       "      <td>rené</td>\n",
       "      <td>elizalde</td>\n",
       "    </tr>\n",
       "    <tr>\n",
       "      <th>1</th>\n",
       "      <td>enrique</td>\n",
       "      <td>cueva</td>\n",
       "    </tr>\n",
       "    <tr>\n",
       "      <th>2</th>\n",
       "      <td>carlos</td>\n",
       "      <td>castillo</td>\n",
       "    </tr>\n",
       "    <tr>\n",
       "      <th>3</th>\n",
       "      <td>pedro</td>\n",
       "      <td>salinas</td>\n",
       "    </tr>\n",
       "    <tr>\n",
       "      <th>4</th>\n",
       "      <td>cristian</td>\n",
       "      <td>andrade</td>\n",
       "    </tr>\n",
       "  </tbody>\n",
       "</table>\n",
       "</div>"
      ]
     },
     "execution_count": 3,
     "metadata": {},
     "output_type": "execute_result"
    }
   ],
   "execution_count": 3
  },
  {
   "cell_type": "code",
   "execution_count": 5,
   "metadata": {},
   "outputs": [
    {
     "data": {
      "text/plain": [
       "0        rené\n",
       "1     enrique\n",
       "2      carlos\n",
       "3       pedro\n",
       "4    cristian\n",
       "Name: nombres, dtype: object"
      ]
     },
     "execution_count": 5,
     "metadata": {},
     "output_type": "execute_result"
    }
   ],
   "source": [
    "mi_df['nombres']"
   ]
  },
  {
   "cell_type": "code",
   "metadata": {
    "ExecuteTime": {
     "end_time": "2025-04-12T01:33:22.569380Z",
     "start_time": "2025-04-12T01:33:22.565669Z"
    }
   },
   "source": [
    "mi_funcion = lambda x: x.upper()\n",
    "mi_df['nombres-mayuscula'] = mi_df['nombres'].apply(mi_funcion)\n",
    "mi_df['apellidos'] = mi_df['apellidos'].apply(lambda x: x.upper())\n"
   ],
   "outputs": [],
   "execution_count": 4
  },
  {
   "cell_type": "code",
   "metadata": {
    "ExecuteTime": {
     "end_time": "2025-04-12T01:33:24.129921Z",
     "start_time": "2025-04-12T01:33:24.123450Z"
    }
   },
   "source": [
    "mi_df"
   ],
   "outputs": [
    {
     "data": {
      "text/plain": [
       "    nombres apellidos nombres-mayuscula\n",
       "0      rené  ELIZALDE              RENÉ\n",
       "1   enrique     CUEVA           ENRIQUE\n",
       "2    carlos  CASTILLO            CARLOS\n",
       "3     pedro   SALINAS             PEDRO\n",
       "4  cristian   ANDRADE          CRISTIAN"
      ],
      "text/html": [
       "<div>\n",
       "<style scoped>\n",
       "    .dataframe tbody tr th:only-of-type {\n",
       "        vertical-align: middle;\n",
       "    }\n",
       "\n",
       "    .dataframe tbody tr th {\n",
       "        vertical-align: top;\n",
       "    }\n",
       "\n",
       "    .dataframe thead th {\n",
       "        text-align: right;\n",
       "    }\n",
       "</style>\n",
       "<table border=\"1\" class=\"dataframe\">\n",
       "  <thead>\n",
       "    <tr style=\"text-align: right;\">\n",
       "      <th></th>\n",
       "      <th>nombres</th>\n",
       "      <th>apellidos</th>\n",
       "      <th>nombres-mayuscula</th>\n",
       "    </tr>\n",
       "  </thead>\n",
       "  <tbody>\n",
       "    <tr>\n",
       "      <th>0</th>\n",
       "      <td>rené</td>\n",
       "      <td>ELIZALDE</td>\n",
       "      <td>RENÉ</td>\n",
       "    </tr>\n",
       "    <tr>\n",
       "      <th>1</th>\n",
       "      <td>enrique</td>\n",
       "      <td>CUEVA</td>\n",
       "      <td>ENRIQUE</td>\n",
       "    </tr>\n",
       "    <tr>\n",
       "      <th>2</th>\n",
       "      <td>carlos</td>\n",
       "      <td>CASTILLO</td>\n",
       "      <td>CARLOS</td>\n",
       "    </tr>\n",
       "    <tr>\n",
       "      <th>3</th>\n",
       "      <td>pedro</td>\n",
       "      <td>SALINAS</td>\n",
       "      <td>PEDRO</td>\n",
       "    </tr>\n",
       "    <tr>\n",
       "      <th>4</th>\n",
       "      <td>cristian</td>\n",
       "      <td>ANDRADE</td>\n",
       "      <td>CRISTIAN</td>\n",
       "    </tr>\n",
       "  </tbody>\n",
       "</table>\n",
       "</div>"
      ]
     },
     "execution_count": 5,
     "metadata": {},
     "output_type": "execute_result"
    }
   ],
   "execution_count": 5
  },
  {
   "cell_type": "code",
   "metadata": {
    "ExecuteTime": {
     "end_time": "2025-04-12T01:36:46.817087Z",
     "start_time": "2025-04-12T01:36:46.812769Z"
    }
   },
   "source": [
    "def count_nombres(x):\n",
    "    valor = len(x)\n",
    "    return valor"
   ],
   "outputs": [],
   "execution_count": 6
  },
  {
   "cell_type": "code",
   "metadata": {
    "ExecuteTime": {
     "end_time": "2025-04-12T01:36:47.740952Z",
     "start_time": "2025-04-12T01:36:47.735918Z"
    }
   },
   "source": [
    "def count_apellidos(x):\n",
    "    valor = len(x)\n",
    "    if valor > 5:\n",
    "        valor = 5\n",
    "        \n",
    "    return valor"
   ],
   "outputs": [],
   "execution_count": 7
  },
  {
   "cell_type": "code",
   "metadata": {
    "ExecuteTime": {
     "end_time": "2025-04-12T01:36:49.394367Z",
     "start_time": "2025-04-12T01:36:49.389559Z"
    }
   },
   "source": [
    "mi_df['longitud-nombres'] = mi_df['nombres'].apply(count_nombres)\n",
    "mi_df['longitud-apellidos'] = mi_df['apellidos'].apply(count_apellidos)\n"
   ],
   "outputs": [],
   "execution_count": 8
  },
  {
   "cell_type": "code",
   "execution_count": 11,
   "metadata": {},
   "outputs": [
    {
     "data": {
      "text/html": [
       "<div>\n",
       "<style scoped>\n",
       "    .dataframe tbody tr th:only-of-type {\n",
       "        vertical-align: middle;\n",
       "    }\n",
       "\n",
       "    .dataframe tbody tr th {\n",
       "        vertical-align: top;\n",
       "    }\n",
       "\n",
       "    .dataframe thead th {\n",
       "        text-align: right;\n",
       "    }\n",
       "</style>\n",
       "<table border=\"1\" class=\"dataframe\">\n",
       "  <thead>\n",
       "    <tr style=\"text-align: right;\">\n",
       "      <th></th>\n",
       "      <th>nombres</th>\n",
       "      <th>apellidos</th>\n",
       "      <th>nombres-mayuscula</th>\n",
       "      <th>longitud-nombres</th>\n",
       "      <th>longitud-apellidos</th>\n",
       "    </tr>\n",
       "  </thead>\n",
       "  <tbody>\n",
       "    <tr>\n",
       "      <th>0</th>\n",
       "      <td>rené</td>\n",
       "      <td>ELIZALDE</td>\n",
       "      <td>RENÉ</td>\n",
       "      <td>4</td>\n",
       "      <td>5</td>\n",
       "    </tr>\n",
       "    <tr>\n",
       "      <th>1</th>\n",
       "      <td>enrique</td>\n",
       "      <td>CUEVA</td>\n",
       "      <td>ENRIQUE</td>\n",
       "      <td>7</td>\n",
       "      <td>5</td>\n",
       "    </tr>\n",
       "    <tr>\n",
       "      <th>2</th>\n",
       "      <td>carlos</td>\n",
       "      <td>CASTILLO</td>\n",
       "      <td>CARLOS</td>\n",
       "      <td>6</td>\n",
       "      <td>5</td>\n",
       "    </tr>\n",
       "    <tr>\n",
       "      <th>3</th>\n",
       "      <td>pedro</td>\n",
       "      <td>SALINAS</td>\n",
       "      <td>PEDRO</td>\n",
       "      <td>5</td>\n",
       "      <td>5</td>\n",
       "    </tr>\n",
       "    <tr>\n",
       "      <th>4</th>\n",
       "      <td>cristian</td>\n",
       "      <td>ANDRADE</td>\n",
       "      <td>CRISTIAN</td>\n",
       "      <td>8</td>\n",
       "      <td>5</td>\n",
       "    </tr>\n",
       "  </tbody>\n",
       "</table>\n",
       "</div>"
      ],
      "text/plain": [
       "    nombres apellidos nombres-mayuscula  longitud-nombres  longitud-apellidos\n",
       "0      rené  ELIZALDE              RENÉ                 4                   5\n",
       "1   enrique     CUEVA           ENRIQUE                 7                   5\n",
       "2    carlos  CASTILLO            CARLOS                 6                   5\n",
       "3     pedro   SALINAS             PEDRO                 5                   5\n",
       "4  cristian   ANDRADE          CRISTIAN                 8                   5"
      ]
     },
     "execution_count": 11,
     "metadata": {},
     "output_type": "execute_result"
    }
   ],
   "source": [
    "mi_df"
   ]
  },
  {
   "cell_type": "code",
   "metadata": {
    "ExecuteTime": {
     "end_time": "2025-04-12T01:44:35.282582Z",
     "start_time": "2025-04-12T01:44:35.270563Z"
    }
   },
   "source": [
    "def initial_apellidos(x):\n",
    "    return x[0]\n",
    "mi_df[\"inicial_apellido\"] = mi_df[\"apellidos\"].apply(initial_apellidos)\n",
    "mi_df"
   ],
   "outputs": [
    {
     "data": {
      "text/plain": [
       "    nombres apellidos nombres-mayuscula  longitud-nombres  longitud-apellidos  \\\n",
       "0      rené  ELIZALDE              RENÉ                 4                   5   \n",
       "1   enrique     CUEVA           ENRIQUE                 7                   5   \n",
       "2    carlos  CASTILLO            CARLOS                 6                   5   \n",
       "3     pedro   SALINAS             PEDRO                 5                   5   \n",
       "4  cristian   ANDRADE          CRISTIAN                 8                   5   \n",
       "\n",
       "  inicial_apellido  \n",
       "0                E  \n",
       "1                C  \n",
       "2                C  \n",
       "3                S  \n",
       "4                A  "
      ],
      "text/html": [
       "<div>\n",
       "<style scoped>\n",
       "    .dataframe tbody tr th:only-of-type {\n",
       "        vertical-align: middle;\n",
       "    }\n",
       "\n",
       "    .dataframe tbody tr th {\n",
       "        vertical-align: top;\n",
       "    }\n",
       "\n",
       "    .dataframe thead th {\n",
       "        text-align: right;\n",
       "    }\n",
       "</style>\n",
       "<table border=\"1\" class=\"dataframe\">\n",
       "  <thead>\n",
       "    <tr style=\"text-align: right;\">\n",
       "      <th></th>\n",
       "      <th>nombres</th>\n",
       "      <th>apellidos</th>\n",
       "      <th>nombres-mayuscula</th>\n",
       "      <th>longitud-nombres</th>\n",
       "      <th>longitud-apellidos</th>\n",
       "      <th>inicial_apellido</th>\n",
       "    </tr>\n",
       "  </thead>\n",
       "  <tbody>\n",
       "    <tr>\n",
       "      <th>0</th>\n",
       "      <td>rené</td>\n",
       "      <td>ELIZALDE</td>\n",
       "      <td>RENÉ</td>\n",
       "      <td>4</td>\n",
       "      <td>5</td>\n",
       "      <td>E</td>\n",
       "    </tr>\n",
       "    <tr>\n",
       "      <th>1</th>\n",
       "      <td>enrique</td>\n",
       "      <td>CUEVA</td>\n",
       "      <td>ENRIQUE</td>\n",
       "      <td>7</td>\n",
       "      <td>5</td>\n",
       "      <td>C</td>\n",
       "    </tr>\n",
       "    <tr>\n",
       "      <th>2</th>\n",
       "      <td>carlos</td>\n",
       "      <td>CASTILLO</td>\n",
       "      <td>CARLOS</td>\n",
       "      <td>6</td>\n",
       "      <td>5</td>\n",
       "      <td>C</td>\n",
       "    </tr>\n",
       "    <tr>\n",
       "      <th>3</th>\n",
       "      <td>pedro</td>\n",
       "      <td>SALINAS</td>\n",
       "      <td>PEDRO</td>\n",
       "      <td>5</td>\n",
       "      <td>5</td>\n",
       "      <td>S</td>\n",
       "    </tr>\n",
       "    <tr>\n",
       "      <th>4</th>\n",
       "      <td>cristian</td>\n",
       "      <td>ANDRADE</td>\n",
       "      <td>CRISTIAN</td>\n",
       "      <td>8</td>\n",
       "      <td>5</td>\n",
       "      <td>A</td>\n",
       "    </tr>\n",
       "  </tbody>\n",
       "</table>\n",
       "</div>"
      ]
     },
     "execution_count": 11,
     "metadata": {},
     "output_type": "execute_result"
    }
   ],
   "execution_count": 11
  },
  {
   "metadata": {},
   "cell_type": "code",
   "outputs": [],
   "execution_count": null,
   "source": ""
  }
 ],
 "metadata": {
  "kernelspec": {
   "display_name": "Python 3 (ipykernel)",
   "language": "python",
   "name": "python3"
  },
  "language_info": {
   "codemirror_mode": {
    "name": "ipython",
    "version": 3
   },
   "file_extension": ".py",
   "mimetype": "text/x-python",
   "name": "python",
   "nbconvert_exporter": "python",
   "pygments_lexer": "ipython3",
   "version": "3.10.12"
  }
 },
 "nbformat": 4,
 "nbformat_minor": 4
}
